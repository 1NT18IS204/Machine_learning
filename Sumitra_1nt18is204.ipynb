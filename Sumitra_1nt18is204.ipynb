{
 "cells": [
  {
   "cell_type": "code",
   "execution_count": null,
   "id": "1e812e82",
   "metadata": {},
   "outputs": [],
   "source": [
    "##MEAN"
   ]
  },
  {
   "cell_type": "code",
   "execution_count": 1,
   "id": "8a940270",
   "metadata": {},
   "outputs": [],
   "source": [
    "n=[23,76,43,12,98,1]"
   ]
  },
  {
   "cell_type": "code",
   "execution_count": 8,
   "id": "9a3c4c70",
   "metadata": {},
   "outputs": [],
   "source": [
    "def meanNum(list):\n",
    "    k=0\n",
    "    for i in range(len(list)):\n",
    "        k+=list[i]\n",
    "    avg=k/len(list)\n",
    "    return avg"
   ]
  },
  {
   "cell_type": "code",
   "execution_count": 9,
   "id": "d6d675d8",
   "metadata": {},
   "outputs": [
    {
     "data": {
      "text/plain": [
       "42.166666666666664"
      ]
     },
     "execution_count": 9,
     "metadata": {},
     "output_type": "execute_result"
    }
   ],
   "source": [
    "meanNum(n)"
   ]
  },
  {
   "cell_type": "code",
   "execution_count": null,
   "id": "62892f3e",
   "metadata": {},
   "outputs": [],
   "source": [
    "##MEDIAN"
   ]
  },
  {
   "cell_type": "code",
   "execution_count": 15,
   "id": "73825672",
   "metadata": {},
   "outputs": [],
   "source": [
    "def medianNum(list):\n",
    "    n.sort()\n",
    "    i=0\n",
    "    if(len(n)%2==0):\n",
    "        mid=(len(n)-1)//2\n",
    "        mid1=len(n)//2\n",
    "        median=(n[mid]+n[mid1])//2\n",
    "        return median\n",
    "    else:\n",
    "        i=(len(n)-1)//2\n",
    "        return n[i]"
   ]
  },
  {
   "cell_type": "code",
   "execution_count": 16,
   "id": "e83e8ecc",
   "metadata": {},
   "outputs": [
    {
     "data": {
      "text/plain": [
       "33"
      ]
     },
     "execution_count": 16,
     "metadata": {},
     "output_type": "execute_result"
    }
   ],
   "source": [
    "medianNum(n)"
   ]
  },
  {
   "cell_type": "code",
   "execution_count": null,
   "id": "0ffb591c",
   "metadata": {},
   "outputs": [],
   "source": [
    "##MODE"
   ]
  },
  {
   "cell_type": "code",
   "execution_count": 33,
   "id": "0ecf90ff",
   "metadata": {},
   "outputs": [],
   "source": [
    "n2=[1,1,1,2,1,3,5]"
   ]
  },
  {
   "cell_type": "code",
   "execution_count": 34,
   "id": "1110f857",
   "metadata": {},
   "outputs": [
    {
     "name": "stdout",
     "output_type": "stream",
     "text": [
      "1\n"
     ]
    }
   ],
   "source": [
    "dict={}\n",
    "for i in n2:\n",
    "    if(i in dict):\n",
    "        dict[i]+=1\n",
    "    else:\n",
    "        dict[i]=1\n",
    "ele=0\n",
    "max1=0\n",
    "for key,value in dict.items():\n",
    "    if(value>max1):\n",
    "        max1=value\n",
    "        ele=key\n",
    "print(ele)\n",
    "    "
   ]
  },
  {
   "cell_type": "code",
   "execution_count": null,
   "id": "53330491",
   "metadata": {},
   "outputs": [],
   "source": [
    "##STANDARD DEVIATION"
   ]
  },
  {
   "cell_type": "code",
   "execution_count": 35,
   "id": "0f2a7cf0",
   "metadata": {},
   "outputs": [
    {
     "name": "stdout",
     "output_type": "stream",
     "text": [
      "2.335496832484569\n"
     ]
    }
   ],
   "source": [
    " from math import sqrt\n",
    " n= [11, 8, 8, 3, 4, 4, 5, 6, 6, 7, 8] \n",
    "\n",
    " mean =sum(n)/len(n)\n",
    " SUM= 0\n",
    " for i in n :\n",
    "     SUM +=(i-mean)**2\n",
    "\n",
    "\n",
    "\n",
    " stdeV = sqrt(SUM/(len(n)-1)) \n",
    " print(stdeV)"
   ]
  },
  {
   "cell_type": "code",
   "execution_count": null,
   "id": "77430c21",
   "metadata": {},
   "outputs": [],
   "source": [
    "##VARIANCE"
   ]
  },
  {
   "cell_type": "code",
   "execution_count": 36,
   "id": "0122bdd9",
   "metadata": {},
   "outputs": [
    {
     "name": "stdout",
     "output_type": "stream",
     "text": [
      "5.454545454545455\n"
     ]
    }
   ],
   "source": [
    "\n",
    " n= [11, 8, 8, 3, 4, 4, 5, 6, 6, 7, 8] \n",
    "\n",
    " mean =sum(n)/len(n)\n",
    " SUM= 0\n",
    " for i in n :\n",
    "     SUM +=(i-mean)**2\n",
    "\n",
    "\n",
    "\n",
    " Var = (SUM/(len(n)-1)) \n",
    " print(Var)"
   ]
  },
  {
   "cell_type": "code",
   "execution_count": null,
   "id": "b103d6cb",
   "metadata": {},
   "outputs": [],
   "source": [
    "##NORMALIZATION"
   ]
  },
  {
   "cell_type": "code",
   "execution_count": 37,
   "id": "66419ef3",
   "metadata": {},
   "outputs": [
    {
     "name": "stdout",
     "output_type": "stream",
     "text": [
      "[0.0, 0.25, 1.0, 0.5, 0.75, 0.25]\n"
     ]
    }
   ],
   "source": [
    "a = [2,4,10,6,8,4]\n",
    "amin, amax = min(a), max(a)\n",
    "for i, val in enumerate(a):\n",
    "     a[i] = (val-amin) / (amax-amin)\n",
    "\n",
    "print(a)"
   ]
  },
  {
   "cell_type": "code",
   "execution_count": null,
   "id": "3e20e1d6",
   "metadata": {},
   "outputs": [],
   "source": [
    "##STANDARDIZATION"
   ]
  },
  {
   "cell_type": "code",
   "execution_count": 47,
   "id": "000acacc",
   "metadata": {},
   "outputs": [
    {
     "name": "stdout",
     "output_type": "stream",
     "text": [
      "[-3.731757611997293, -3.591334969526363, -3.8721802544682222, -3.450912327055433, -3.8546274241593554, -3.591334969526363]\n"
     ]
    }
   ],
   "source": [
    " from math import sqrt\n",
    " n= [11, 8, 8, 3, 4, 4, 5, 6, 6, 7, 8] \n",
    "\n",
    " mean =sum(n)/len(n)\n",
    " SUM= 0\n",
    " for i in n :\n",
    "     SUM +=(i-mean)**2\n",
    "limit\n",
    "\n",
    "\n",
    " stdeV = sqrt(SUM/(len(n)-1)) \n",
    " \n",
    "    \n",
    "for i, val in enumerate(a):\n",
    "     a[i] = (val-mean) / stdeV\n",
    "\n",
    "print(a)"
   ]
  },
  {
   "cell_type": "code",
   "execution_count": null,
   "id": "fb64f854",
   "metadata": {},
   "outputs": [],
   "source": []
  }
 ],
 "metadata": {
  "kernelspec": {
   "display_name": "Python 3",
   "language": "python",
   "name": "python3"
  },
  "language_info": {
   "codemirror_mode": {
    "name": "ipython",
    "version": 3
   },
   "file_extension": ".py",
   "mimetype": "text/x-python",
   "name": "python",
   "nbconvert_exporter": "python",
   "pygments_lexer": "ipython3",
   "version": "3.8.8"
  }
 },
 "nbformat": 4,
 "nbformat_minor": 5
}
