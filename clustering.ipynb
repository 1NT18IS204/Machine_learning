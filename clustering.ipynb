{
 "cells": [
  {
   "cell_type": "code",
   "execution_count": 1,
   "metadata": {},
   "outputs": [],
   "source": [
    "import numpy as np\n",
    "from random import sample"
   ]
  },
  {
   "cell_type": "code",
   "execution_count": 15,
   "metadata": {},
   "outputs": [],
   "source": [
    "#centroid1=[]\n",
    "#centroid2=[]\n",
    "#centroid3=[]\n",
    "cluster1=[]\n",
    "cluster2=[]\n",
    "cluster3=[]\n",
    "points = [[2,4],[4,3],[5,2],[9,3],[6,12],[10,13],[20,5],[25,8],[21,10],[20,13],[27,9],[12,12]]\n",
    "centroid1=sample(points,1)\n",
    "centroid2=sample(points,1)\n",
    "centroid3=sample(points,1)\n"
   ]
  },
  {
   "cell_type": "raw",
   "metadata": {},
   "source": [
    "centroid1"
   ]
  },
  {
   "cell_type": "code",
   "execution_count": 4,
   "metadata": {},
   "outputs": [
    {
     "data": {
      "text/plain": [
       "[[6, 12]]"
      ]
     },
     "execution_count": 4,
     "metadata": {},
     "output_type": "execute_result"
    }
   ],
   "source": [
    "centroid2print(c1,c2,c3)"
   ]
  },
  {
   "cell_type": "code",
   "execution_count": 5,
   "metadata": {},
   "outputs": [
    {
     "data": {
      "text/plain": [
       "[[5, 2]]"
      ]
     },
     "execution_count": 5,
     "metadata": {},
     "output_type": "execute_result"
    }
   ],
   "source": [
    "centroid3"
   ]
  },
  {
   "cell_type": "code",
   "execution_count": 6,
   "metadata": {},
   "outputs": [],
   "source": [
    "c1=[]\n",
    "c2=[]\n",
    "c3=[]"
   ]
  },
  {
   "cell_type": "code",
   "execution_count": 7,
   "metadata": {},
   "outputs": [],
   "source": [
    "def euc_dist(p1,p2):\n",
    "    return np.sqrt((np.square(p1[0]-p2[0])+np.square(p1[1]-p2[1])))"
   ]
  },
  {
   "cell_type": "code",
   "execution_count": 17,
   "metadata": {},
   "outputs": [],
   "source": [
    "def clustering(cen1,cen2,cen3):\n",
    "    dist=[0]*3\n",
    "    for i in points:\n",
    "        dist[0]=euc_dist(i,cen1[0])\n",
    "        dist[1]=euc_dist(i,cen2[0])\n",
    "        dist[2]=euc_dist(i,cen3[0])\n",
    "        closest=dist.index(min(dist))+1\n",
    "        if(closest==1):\n",
    "            cluster1.append(i)\n",
    "        if(closest==2):\n",
    "            cluster2.append(i)\n",
    "        if(closest==3):\n",
    "            cluster3.append(i)\n",
    "    c11=np.round(np.mean(cluster1, axis=0),2).tolist()\n",
    "    c22=np.round(np.mean(cluster2, axis=0),2).tolist()\n",
    "    c33=np.round(np.mean(cluster3, axis=0),2).tolist()\n",
    "    return c11,c22,c33"
   ]
  },
  {
   "cell_type": "code",
   "execution_count": 9,
   "metadata": {},
   "outputs": [
    {
     "name": "stdout",
     "output_type": "stream",
     "text": [
      "[22.6, 9.0] [9.33, 12.33] [5.0, 3.0]\n"
     ]
    }
   ],
   "source": [
    "c1,c2,c3=clustering(centroid1,centroid2,centroid3)\n",
    "print(c1,c2,c3)"
   ]
  },
  {
   "cell_type": "code",
   "execution_count": 18,
   "metadata": {},
   "outputs": [
    {
     "name": "stdout",
     "output_type": "stream",
     "text": [
      "In iteration  1 , centroid1= [22.6, 9.0] , centroid2= [9.33, 12.33] . centroid3= [5.0, 3.0]\n"
     ]
    }
   ],
   "source": [
    "c=1\n",
    "while c1!=centroid1[0] or c2!=centroid2[0] or c3!=centroid3[0]:\n",
    "    print(\"In iteration \",c,\", centroid1=\",c1,\", centroid2=\",c2,\". centroid3=\",c3)\n",
    "    centroid1[0]=c1\n",
    "    centroid2[0]=c2\n",
    "    centroid3[0]=c3\n",
    "    c1,c2,c3=clustering(centroid1,centroid2,centroid3)\n",
    "    c=c+1"
   ]
  },
  {
   "cell_type": "code",
   "execution_count": 11,
   "metadata": {},
   "outputs": [
    {
     "name": "stdout",
     "output_type": "stream",
     "text": [
      "[22.6, 9.0] [9.33, 12.33] [5.0, 3.0]\n"
     ]
    }
   ],
   "source": [
    "print(c1,c2,c3)"
   ]
  },
  {
   "cell_type": "code",
   "execution_count": 12,
   "metadata": {},
   "outputs": [
    {
     "data": {
      "text/plain": [
       "[[22.6, 9.0]]"
      ]
     },
     "execution_count": 12,
     "metadata": {},
     "output_type": "execute_result"
    }
   ],
   "source": [
    "centroid1"
   ]
  },
  {
   "cell_type": "code",
   "execution_count": 13,
   "metadata": {},
   "outputs": [
    {
     "data": {
      "text/plain": [
       "[[9.33, 12.33]]"
      ]
     },
     "execution_count": 13,
     "metadata": {},
     "output_type": "execute_result"
    }
   ],
   "source": [
    "centroid2"
   ]
  },
  {
   "cell_type": "code",
   "execution_count": 14,
   "metadata": {},
   "outputs": [
    {
     "data": {
      "text/plain": [
       "[[5.0, 3.0]]"
      ]
     },
     "execution_count": 14,
     "metadata": {},
     "output_type": "execute_result"
    }
   ],
   "source": [
    "centroid3"
   ]
  },
  {
   "cell_type": "code",
   "execution_count": null,
   "metadata": {},
   "outputs": [],
   "source": []
  }
 ],
 "metadata": {
  "kernelspec": {
   "display_name": "Python 3",
   "language": "python",
   "name": "python3"
  },
  "language_info": {
   "codemirror_mode": {
    "name": "ipython",
    "version": 3
   },
   "file_extension": ".py",
   "mimetype": "text/x-python",
   "name": "python",
   "nbconvert_exporter": "python",
   "pygments_lexer": "ipython3",
   "version": "3.7.4"
  }
 },
 "nbformat": 4,
 "nbformat_minor": 2
}
